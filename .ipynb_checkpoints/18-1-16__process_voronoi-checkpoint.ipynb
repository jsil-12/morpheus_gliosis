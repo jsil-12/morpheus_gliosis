{
 "cells": [
  {
   "cell_type": "code",
   "execution_count": 3,
   "metadata": {
    "collapsed": false
   },
   "outputs": [],
   "source": [
    "import pandas as pd\n",
    "\n",
    "_dir = \"F:\\\\lab_files\\\\imageJ_macro_working_directory\\\\Gfap_Iba1_ki67\\\\GFAP_Iba1_ki67_output\\\\voronoi\\\\test\\\\\"\n",
    "file = \"test_voronoi_output.txt\"\n",
    "\n",
    "data = pd.read_csv(_dir+file, sep=\"\\t\")\n"
   ]
  },
  {
   "cell_type": "code",
   "execution_count": 10,
   "metadata": {
    "collapsed": false
   },
   "outputs": [],
   "source": [
    "#print(data)\n",
    "coords = data[[\"x1\",\"y1\",\"x2\",\"y2\"]]\n",
    "#print(coords)\n",
    "strfile = \"\"\n",
    "for index, row in coords.iterrows():\n",
    "    for el in row.values:\n",
    "        strfile += str(el)\n",
    "        strfile += \"-\"\n",
    "    strfile = strfile[:-1]\n",
    "    strfile += \"=\"\n",
    "\n",
    "with open(_dir+\"test_voronoi_output_strfile.txt\",\"w\") as writer:\n",
    "    writer.write(strfile)\n",
    "    \n",
    "#print(strfile)"
   ]
  }
 ],
 "metadata": {
  "kernelspec": {
   "display_name": "Python 3",
   "language": "python",
   "name": "python3"
  },
  "language_info": {
   "codemirror_mode": {
    "name": "ipython",
    "version": 3
   },
   "file_extension": ".py",
   "mimetype": "text/x-python",
   "name": "python",
   "nbconvert_exporter": "python",
   "pygments_lexer": "ipython3",
   "version": "3.5.1"
  }
 },
 "nbformat": 4,
 "nbformat_minor": 2
}
